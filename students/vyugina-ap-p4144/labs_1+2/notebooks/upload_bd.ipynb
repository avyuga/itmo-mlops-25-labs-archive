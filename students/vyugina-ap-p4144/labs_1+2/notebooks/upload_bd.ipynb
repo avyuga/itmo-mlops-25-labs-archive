{
 "cells": [
  {
   "cell_type": "code",
   "execution_count": 4,
   "metadata": {},
   "outputs": [],
   "source": [
    "%reload_ext autoreload\n",
    "%autoreload 2"
   ]
  },
  {
   "cell_type": "code",
   "execution_count": 5,
   "metadata": {},
   "outputs": [],
   "source": [
    "from qdrant_client import QdrantClient  # type: ignore\n",
    "from qdrant_client.models import Record\n",
    "\n",
    "qdrant = QdrantClient(\"http://localhost:6333\")"
   ]
  },
  {
   "cell_type": "code",
   "execution_count": 6,
   "metadata": {},
   "outputs": [],
   "source": [
    "# qdrant.create_collection(\n",
    "#     collection_name=\"NY_Airbnb\",\n",
    "#     vectors_config=VectorParams(size=10, distance=Distance.COSINE),\n",
    "# )"
   ]
  },
  {
   "cell_type": "code",
   "execution_count": 7,
   "metadata": {},
   "outputs": [],
   "source": [
    "import numpy as np\n",
    "\n",
    "np.set_printoptions(suppress=True, precision=3)\n",
    "\n",
    "import pandas as pd\n",
    "\n",
    "from sklearn.model_selection import train_test_split"
   ]
  },
  {
   "cell_type": "code",
   "execution_count": 8,
   "metadata": {},
   "outputs": [
    {
     "name": "stdout",
     "output_type": "stream",
     "text": [
      "Суммарное кол-во строк: 48895\n",
      "Train: 34226, Test: 14669\n"
     ]
    }
   ],
   "source": [
    "data = pd.read_csv(\"../assets/AB_NYC_2019.csv\")\n",
    "print(f\"Суммарное кол-во строк: {len(data)}\")\n",
    "\n",
    "data_train, data_test = train_test_split(data, test_size=0.3, random_state=0)\n",
    "print(f\"Train: {len(data_train)}, Test: {len(data_test)}\")"
   ]
  },
  {
   "cell_type": "code",
   "execution_count": 9,
   "metadata": {},
   "outputs": [],
   "source": [
    "from preprocess import DataPreprocessor\n",
    "\n",
    "preprocessor = DataPreprocessor(data_train)"
   ]
  },
  {
   "cell_type": "code",
   "execution_count": 10,
   "metadata": {},
   "outputs": [],
   "source": [
    "data_train_proc = preprocessor.preprocess_airbnb_data().get_preprocessed_data()"
   ]
  },
  {
   "cell_type": "code",
   "execution_count": 11,
   "metadata": {},
   "outputs": [],
   "source": [
    "vectors = list(data_train_proc.to_numpy())\n",
    "ids = list(data_train_proc.index)"
   ]
  },
  {
   "cell_type": "code",
   "execution_count": 12,
   "metadata": {},
   "outputs": [],
   "source": [
    "qdrant.upload_points(\n",
    "    collection_name=\"NY_Airbnb\",\n",
    "    points=[Record(id=id, vector=vec) for id, vec in zip(ids, vectors)],\n",
    "    batch_size=64,\n",
    ")"
   ]
  },
  {
   "cell_type": "code",
   "execution_count": null,
   "metadata": {},
   "outputs": [],
   "source": []
  }
 ],
 "metadata": {
  "kernelspec": {
   "display_name": "mlops_venv_3.9",
   "language": "python",
   "name": "python3"
  },
  "language_info": {
   "codemirror_mode": {
    "name": "ipython",
    "version": 3
   },
   "file_extension": ".py",
   "mimetype": "text/x-python",
   "name": "python",
   "nbconvert_exporter": "python",
   "pygments_lexer": "ipython3",
   "version": "3.12.6"
  }
 },
 "nbformat": 4,
 "nbformat_minor": 2
}
