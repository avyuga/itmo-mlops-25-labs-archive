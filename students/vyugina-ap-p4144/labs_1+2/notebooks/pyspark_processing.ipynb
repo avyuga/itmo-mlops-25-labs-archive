{
 "cells": [
  {
   "cell_type": "code",
   "execution_count": 1,
   "metadata": {},
   "outputs": [],
   "source": [
    "%reload_ext autoreload\n",
    "%autoreload 2"
   ]
  },
  {
   "cell_type": "code",
   "execution_count": 2,
   "metadata": {},
   "outputs": [],
   "source": [
    "import json\n",
    "\n",
    "import numpy as np\n",
    "import pandas as pd\n",
    "from sklearn.model_selection import train_test_split\n",
    "\n",
    "pd.set_option(\"display.precision\", 3)\n",
    "\n",
    "from time import time"
   ]
  },
  {
   "cell_type": "code",
   "execution_count": null,
   "metadata": {},
   "outputs": [
    {
     "name": "stdout",
     "output_type": "stream",
     "text": [
      "Суммарное кол-во строк: 48895\n",
      "Train: 34226, Test: 14669\n"
     ]
    }
   ],
   "source": [
    "pandas_data = pd.read_csv(\"assets/AB_NYC_2019.csv\")\n",
    "print(f\"Суммарное кол-во строк: {len(pandas_data)}\")\n",
    "\n",
    "pandas_data_train, pandas_data = train_test_split(\n",
    "    pandas_data, test_size=0.3, random_state=0\n",
    ")\n",
    "print(f\"Train: {len(pandas_data_train)}, Test: {len(pandas_data)}\")"
   ]
  },
  {
   "cell_type": "code",
   "execution_count": null,
   "metadata": {},
   "outputs": [
    {
     "name": "stdout",
     "output_type": "stream",
     "text": [
      "['Williamsburg', \"Hell's Kitchen\", 'small discricts in Brooklyn', 'Bushwick', 'Upper West Side', 'small discricts in Queens', 'East Village', 'Midtown', 'small discricts in Manhattan', 'Crown Heights', 'Bedford-Stuyvesant', 'Lower East Side', 'Harlem', 'Greenpoint', 'East Harlem', 'Financial District', 'Astoria', 'small discricts in Staten Island', 'small discricts in Bronx', 'Upper East Side', 'Washington Heights', 'Chelsea', 'West Village']\n"
     ]
    }
   ],
   "source": [
    "with open(\"assets/final_neighbourhoods.txt\", \"r\") as file:\n",
    "    final_neighbourhoods = file.readlines()\n",
    "final_neighbourhoods = [s.strip() for s in final_neighbourhoods]\n",
    "\n",
    "print(final_neighbourhoods)"
   ]
  },
  {
   "cell_type": "code",
   "execution_count": 5,
   "metadata": {},
   "outputs": [],
   "source": [
    "def categorize_review_recency(days):\n",
    "    if pd.isna(days):\n",
    "        return \"No reviews\"\n",
    "    elif days <= 30:\n",
    "        return \"Last month\"\n",
    "    elif days <= 90:\n",
    "        return \"Last quarter\"\n",
    "    elif days <= 365:\n",
    "        return \"Last year\"\n",
    "    else:\n",
    "        return \"Over a year ago\""
   ]
  },
  {
   "cell_type": "code",
   "execution_count": null,
   "metadata": {},
   "outputs": [],
   "source": [
    "# Информация от энкодера/скейлера\n",
    "with open(\"assets/preprocessing_info.json\", \"r\") as f:\n",
    "    preprocessing_info = json.load(f)"
   ]
  },
  {
   "cell_type": "markdown",
   "metadata": {},
   "source": [
    "## PySpark"
   ]
  },
  {
   "cell_type": "code",
   "execution_count": 7,
   "metadata": {},
   "outputs": [],
   "source": [
    "import os\n",
    "import sys\n",
    "\n",
    "os.environ[\"PYSPARK_PYTHON\"] = sys.executable\n",
    "os.environ[\"PYSPARK_DRIVER_PYTHON\"] = sys.executable\n",
    "\n",
    "sys.path.append(os.path.join(os.getenv(\"SPARK_HOME\"), \"python\", \"lib\"))"
   ]
  },
  {
   "cell_type": "code",
   "execution_count": 8,
   "metadata": {},
   "outputs": [
    {
     "name": "stderr",
     "output_type": "stream",
     "text": [
      "D:\\DEV\\spark_binaries\\python\\lib\\pyspark\\pandas\\__init__.py:50: UserWarning: 'PYARROW_IGNORE_TIMEZONE' environment variable was not set. It is required to set this environment variable to '1' in both driver and executor sides if you use pyarrow>=2.0.0. pandas-on-Spark will set it for you but it does not work if there is a Spark context already launched.\n",
      "  warnings.warn(\n"
     ]
    }
   ],
   "source": [
    "from pyspark.sql import SparkSession\n",
    "\n",
    "spark = SparkSession.builder.getOrCreate()\n",
    "spark.conf.set(\"spark.sql.shuffle.partitions\", \"1\")\n",
    "\n",
    "import pyspark.pandas as ps\n",
    "\n",
    "ps.set_option(\"compute.ops_on_diff_frames\", True)"
   ]
  },
  {
   "cell_type": "code",
   "execution_count": 9,
   "metadata": {},
   "outputs": [],
   "source": [
    "data = spark.createDataFrame(pandas_data)"
   ]
  },
  {
   "cell_type": "code",
   "execution_count": 10,
   "metadata": {},
   "outputs": [
    {
     "name": "stdout",
     "output_type": "stream",
     "text": [
      "root\n",
      " |-- id: long (nullable = true)\n",
      " |-- name: string (nullable = true)\n",
      " |-- host_id: long (nullable = true)\n",
      " |-- host_name: string (nullable = true)\n",
      " |-- neighbourhood_group: string (nullable = true)\n",
      " |-- neighbourhood: string (nullable = true)\n",
      " |-- latitude: double (nullable = true)\n",
      " |-- longitude: double (nullable = true)\n",
      " |-- room_type: string (nullable = true)\n",
      " |-- price: long (nullable = true)\n",
      " |-- minimum_nights: long (nullable = true)\n",
      " |-- number_of_reviews: long (nullable = true)\n",
      " |-- last_review: string (nullable = true)\n",
      " |-- reviews_per_month: double (nullable = true)\n",
      " |-- calculated_host_listings_count: long (nullable = true)\n",
      " |-- availability_365: long (nullable = true)\n",
      "\n"
     ]
    }
   ],
   "source": [
    "data.printSchema()"
   ]
  },
  {
   "cell_type": "code",
   "execution_count": 11,
   "metadata": {},
   "outputs": [
    {
     "name": "stdout",
     "output_type": "stream",
     "text": [
      "+--------+--------------------+---------+-----------------+-------------------+------------------+--------+---------+---------------+-----+--------------+-----------------+-----------+-----------------+------------------------------+----------------+\n",
      "|      id|                name|  host_id|        host_name|neighbourhood_group|     neighbourhood|latitude|longitude|      room_type|price|minimum_nights|number_of_reviews|last_review|reviews_per_month|calculated_host_listings_count|availability_365|\n",
      "+--------+--------------------+---------+-----------------+-------------------+------------------+--------+---------+---------------+-----+--------------+-----------------+-----------+-----------------+------------------------------+----------------+\n",
      "|33893655|Studio in doorman...|138798990|            Jonas|          Manhattan|           Tribeca| 40.7243| -74.0111|Entire home/apt|  225|             3|                0|        NaN|              NaN|                             1|              42|\n",
      "|25798461|Large 2 bedroom d...|   195803|           Zinnia|          Manhattan|              NoHo|40.72555|-73.99283|Entire home/apt|  649|             1|                5| 2018-11-03|              0.4|                             1|              75|\n",
      "|20213045|Spacious and Mode...|  2678122|            Tasha|           Brooklyn|      Williamsburg|40.71687|-73.95012|Entire home/apt|  300|             5|                5| 2019-06-12|             0.35|                             3|              31|\n",
      "|28670432|            X 20-203|115993835|           Shimin|           Brooklyn|       Sunset Park|40.64036|-74.00822|   Private room|   26|             1|               13| 2019-04-12|             1.36|                             5|             141|\n",
      "|13920697|Brownstone apt in...| 29513490|          Whitney|           Brooklyn|Bedford-Stuyvesant| 40.6837|-73.93325|Entire home/apt|  125|             2|                4| 2017-01-02|             0.12|                             1|               0|\n",
      "|12206029|Private BR, Bed-S...|  5897784|         Nicholas|           Brooklyn|Bedford-Stuyvesant|40.68022|-73.92673|   Private room|   49|             1|                1| 2016-05-13|             0.03|                             1|               0|\n",
      "| 5406041|Mod 3 BR duplex-E...| 27974744|             Cara|          Manhattan|      East Village|40.72755|-73.97876|   Private room|  100|             2|              156| 2019-06-19|              3.9|                             1|             197|\n",
      "|31170814|Tranquil, Cozy, C...|125586920|            Julie|              Bronx|       City Island|40.85746|-73.79056|Entire home/apt|  175|             2|               14| 2019-06-23|             2.66|                             1|              79|\n",
      "|36116336|Very Large/Spacio...|118892550|             Jona|          Manhattan|   Upper East Side|40.78269|-73.95452|   Private room|   85|             2|                0|        NaN|              NaN|                             1|              30|\n",
      "|11281365|Private Room in U...| 24258262|           Hannah|          Manhattan|Washington Heights|40.83336|-73.94333|   Private room|   70|             2|              118| 2019-06-30|             2.93|                             1|             283|\n",
      "|34214603|Sonder | 11th Ave...|219517861|     Sonder (NYC)|          Manhattan|    Hell's Kitchen|40.76198|-73.99644|Entire home/apt|  184|            29|                0|        NaN|              NaN|                           327|             334|\n",
      "|19069915|Extraordinary Apt...| 61391963|Corporate Housing|          Manhattan|           Midtown|40.75609|-73.96941|Entire home/apt|  125|            30|                2| 2019-06-01|             0.15|                            91|             140|\n",
      "|18214015|Quiet Private Bed...| 41874064|            Sheba|          Manhattan|      Little Italy|40.71836|-73.99777|   Private room|   90|             1|              106| 2019-07-02|             4.29|                             2|               9|\n",
      "| 4908078|Modern Minimalism...| 25242899|             Dave|           Brooklyn|       Sunset Park|40.65616|-74.00091|   Private room|   88|             4|               42| 2019-07-01|             0.82|                             1|             261|\n",
      "|25404381|Romantic Garden F...|144892527|           Victor|           Brooklyn|     Crown Heights|40.67076|-73.94876|Entire home/apt|  183|             1|               58| 2019-06-23|             4.36|                             1|              15|\n",
      "|24269100|Sunny Bedroom wit...|181710793|Michelle & Evelyn|             Queens|          Flushing|40.76425|-73.83061|   Private room|   65|             1|               94| 2019-06-26|             6.45|                             3|              41|\n",
      "|26946208|Cozy room in the ...| 21146326|             Olga|          Manhattan|         Chinatown|40.71794|-73.99686|   Private room|   75|             3|                4| 2018-11-04|              0.4|                             2|               0|\n",
      "| 2637533|Spacious Studio S...|  2687435|      Abby & Kurt|             Queens|  Ditmars Steinway|40.77594|-73.91786|Entire home/apt|   95|             3|               25| 2019-05-31|             3.04|                             1|               6|\n",
      "|32726513| Quiet, Cozy, Oassis|246096171|     Ramón Emilio|           Brooklyn|Bedford-Stuyvesant|40.67864|-73.91413|   Private room|   55|             1|               22| 2019-07-03|             6.11|                             1|              12|\n",
      "|18785035|Giant bedroom in ...|130735852|             Elsa|           Brooklyn|   Carroll Gardens| 40.6737|-73.99891|   Private room|   77|             2|               18| 2019-04-23|             0.77|                             1|               1|\n",
      "+--------+--------------------+---------+-----------------+-------------------+------------------+--------+---------+---------------+-----+--------------+-----------------+-----------+-----------------+------------------------------+----------------+\n",
      "only showing top 20 rows\n",
      "\n"
     ]
    }
   ],
   "source": [
    "data.show()"
   ]
  },
  {
   "cell_type": "code",
   "execution_count": 12,
   "metadata": {},
   "outputs": [
    {
     "data": {
      "text/html": [
       "<div>\n",
       "<style scoped>\n",
       "    .dataframe tbody tr th:only-of-type {\n",
       "        vertical-align: middle;\n",
       "    }\n",
       "\n",
       "    .dataframe tbody tr th {\n",
       "        vertical-align: top;\n",
       "    }\n",
       "\n",
       "    .dataframe thead th {\n",
       "        text-align: right;\n",
       "    }\n",
       "</style>\n",
       "<table border=\"1\" class=\"dataframe\">\n",
       "  <thead>\n",
       "    <tr style=\"text-align: right;\">\n",
       "      <th></th>\n",
       "      <th>id</th>\n",
       "      <th>name</th>\n",
       "      <th>host_id</th>\n",
       "      <th>host_name</th>\n",
       "      <th>neighbourhood_group</th>\n",
       "      <th>neighbourhood</th>\n",
       "      <th>latitude</th>\n",
       "      <th>longitude</th>\n",
       "      <th>room_type</th>\n",
       "      <th>price</th>\n",
       "      <th>minimum_nights</th>\n",
       "      <th>number_of_reviews</th>\n",
       "      <th>last_review</th>\n",
       "      <th>reviews_per_month</th>\n",
       "      <th>calculated_host_listings_count</th>\n",
       "      <th>availability_365</th>\n",
       "    </tr>\n",
       "  </thead>\n",
       "  <tbody>\n",
       "    <tr>\n",
       "      <th>0</th>\n",
       "      <td>33893655</td>\n",
       "      <td>Studio in doorman building in Tribeca</td>\n",
       "      <td>138798990</td>\n",
       "      <td>Jonas</td>\n",
       "      <td>Manhattan</td>\n",
       "      <td>Tribeca</td>\n",
       "      <td>40.724</td>\n",
       "      <td>-74.011</td>\n",
       "      <td>Entire home/apt</td>\n",
       "      <td>225</td>\n",
       "      <td>3</td>\n",
       "      <td>0</td>\n",
       "      <td>NaN</td>\n",
       "      <td>NaN</td>\n",
       "      <td>1</td>\n",
       "      <td>42</td>\n",
       "    </tr>\n",
       "    <tr>\n",
       "      <th>1</th>\n",
       "      <td>25798461</td>\n",
       "      <td>Large 2 bedroom downtown Loft Apartment</td>\n",
       "      <td>195803</td>\n",
       "      <td>Zinnia</td>\n",
       "      <td>Manhattan</td>\n",
       "      <td>NoHo</td>\n",
       "      <td>40.726</td>\n",
       "      <td>-73.993</td>\n",
       "      <td>Entire home/apt</td>\n",
       "      <td>649</td>\n",
       "      <td>1</td>\n",
       "      <td>5</td>\n",
       "      <td>2018-11-03</td>\n",
       "      <td>0.40</td>\n",
       "      <td>1</td>\n",
       "      <td>75</td>\n",
       "    </tr>\n",
       "    <tr>\n",
       "      <th>2</th>\n",
       "      <td>20213045</td>\n",
       "      <td>Spacious and Modern 2 Bed/2.5 Bath Dream Townh...</td>\n",
       "      <td>2678122</td>\n",
       "      <td>Tasha</td>\n",
       "      <td>Brooklyn</td>\n",
       "      <td>Williamsburg</td>\n",
       "      <td>40.717</td>\n",
       "      <td>-73.950</td>\n",
       "      <td>Entire home/apt</td>\n",
       "      <td>300</td>\n",
       "      <td>5</td>\n",
       "      <td>5</td>\n",
       "      <td>2019-06-12</td>\n",
       "      <td>0.35</td>\n",
       "      <td>3</td>\n",
       "      <td>31</td>\n",
       "    </tr>\n",
       "    <tr>\n",
       "      <th>3</th>\n",
       "      <td>28670432</td>\n",
       "      <td>X 20-203</td>\n",
       "      <td>115993835</td>\n",
       "      <td>Shimin</td>\n",
       "      <td>Brooklyn</td>\n",
       "      <td>Sunset Park</td>\n",
       "      <td>40.640</td>\n",
       "      <td>-74.008</td>\n",
       "      <td>Private room</td>\n",
       "      <td>26</td>\n",
       "      <td>1</td>\n",
       "      <td>13</td>\n",
       "      <td>2019-04-12</td>\n",
       "      <td>1.36</td>\n",
       "      <td>5</td>\n",
       "      <td>141</td>\n",
       "    </tr>\n",
       "    <tr>\n",
       "      <th>4</th>\n",
       "      <td>13920697</td>\n",
       "      <td>Brownstone apt in Bklyn w/ gorgeous natural light</td>\n",
       "      <td>29513490</td>\n",
       "      <td>Whitney</td>\n",
       "      <td>Brooklyn</td>\n",
       "      <td>Bedford-Stuyvesant</td>\n",
       "      <td>40.684</td>\n",
       "      <td>-73.933</td>\n",
       "      <td>Entire home/apt</td>\n",
       "      <td>125</td>\n",
       "      <td>2</td>\n",
       "      <td>4</td>\n",
       "      <td>2017-01-02</td>\n",
       "      <td>0.12</td>\n",
       "      <td>1</td>\n",
       "      <td>0</td>\n",
       "    </tr>\n",
       "  </tbody>\n",
       "</table>\n",
       "</div>"
      ],
      "text/plain": [
       "         id                                                name    host_id host_name neighbourhood_group       neighbourhood  latitude  longitude        room_type  price  minimum_nights  number_of_reviews last_review  reviews_per_month  calculated_host_listings_count  availability_365\n",
       "0  33893655               Studio in doorman building in Tribeca  138798990     Jonas           Manhattan             Tribeca    40.724    -74.011  Entire home/apt    225               3                  0         NaN                NaN                               1                42\n",
       "1  25798461             Large 2 bedroom downtown Loft Apartment     195803    Zinnia           Manhattan                NoHo    40.726    -73.993  Entire home/apt    649               1                  5  2018-11-03               0.40                               1                75\n",
       "2  20213045  Spacious and Modern 2 Bed/2.5 Bath Dream Townhouse    2678122     Tasha            Brooklyn        Williamsburg    40.717    -73.950  Entire home/apt    300               5                  5  2019-06-12               0.35                               3                31\n",
       "3  28670432                                            X 20-203  115993835    Shimin            Brooklyn         Sunset Park    40.640    -74.008     Private room     26               1                 13  2019-04-12               1.36                               5               141\n",
       "4  13920697   Brownstone apt in Bklyn w/ gorgeous natural light   29513490   Whitney            Brooklyn  Bedford-Stuyvesant    40.684    -73.933  Entire home/apt    125               2                  4  2017-01-02               0.12                               1                 0"
      ]
     },
     "execution_count": 12,
     "metadata": {},
     "output_type": "execute_result"
    }
   ],
   "source": [
    "df = data.pandas_api()\n",
    "df.head(5)"
   ]
  },
  {
   "cell_type": "markdown",
   "metadata": {},
   "source": [
    "### Preprocessing"
   ]
  },
  {
   "cell_type": "code",
   "execution_count": null,
   "metadata": {},
   "outputs": [
    {
     "name": "stderr",
     "output_type": "stream",
     "text": [
      "D:\\DEV\\spark_binaries\\python\\lib\\pyspark\\pandas\\data_type_ops\\datetime_ops.py:98: UserWarning: Note that there is a behavior difference of timestamp subtraction. The timestamp subtraction returns an integer in seconds, whereas pandas returns 'timedelta64[ns]'.\n",
      "  warnings.warn(msg, UserWarning)\n"
     ]
    }
   ],
   "source": [
    "t1 = time()\n",
    "df = df.drop([\"id\", \"name\", \"host_id\", \"host_name\"], axis=1)\n",
    "\n",
    "\n",
    "data_in_small_disctricts = ~df[\"neighbourhood\"].isin(final_neighbourhoods)\n",
    "df.loc[data_in_small_disctricts, \"neighbourhood\"] = (\n",
    "    \"small discricts in \" + df.loc[data_in_small_disctricts, \"neighbourhood_group\"]\n",
    ")\n",
    "\n",
    "\n",
    "df[\"last_review\"] = ps.to_datetime(\n",
    "    df[\"last_review\"], format=\"%Y-%m-%d\", errors=\"coerce\"\n",
    ")\n",
    "reference_date = df[\"last_review\"].max()\n",
    "df[\"days_since_review\"] = (reference_date - df[\"last_review\"]) / 60 / 60 / 24\n",
    "df[\"review_recency\"] = df[\"days_since_review\"].apply(categorize_review_recency)\n",
    "\n",
    "df = df.drop([\"reviews_per_month\", \"days_since_review\", \"last_review\"], axis=1)\n",
    "\n",
    "\n",
    "df[\"hosts_multiple_apts\"] = (df[\"calculated_host_listings_count\"] > 1).astype(np.int8)\n",
    "df[\"availability_365\"] = (df[\"availability_365\"] > 0).astype(np.int8)\n",
    "\n",
    "df = df.drop([\"calculated_host_listings_count\", \"minimum_nights\"], axis=1)\n",
    "\n",
    "\n",
    "for col, column_actions in preprocessing_info.items():\n",
    "    if \"encoder\" in column_actions.keys():\n",
    "        df[col] = df[col].map(column_actions[\"encoder\"]).astype(np.int32)\n",
    "    if \"scaler\" in column_actions.keys():\n",
    "        df[col] = (df[col] - column_actions[\"scaler\"][\"min\"]) / (\n",
    "            column_actions[\"scaler\"][\"max\"] - column_actions[\"scaler\"][\"min\"]\n",
    "        )\n",
    "\n",
    "t2 = time()"
   ]
  },
  {
   "cell_type": "code",
   "execution_count": 14,
   "metadata": {},
   "outputs": [
    {
     "data": {
      "text/plain": [
       "36.78664445877075"
      ]
     },
     "execution_count": 14,
     "metadata": {},
     "output_type": "execute_result"
    }
   ],
   "source": [
    "t2 - t1"
   ]
  },
  {
   "cell_type": "code",
   "execution_count": 15,
   "metadata": {},
   "outputs": [
    {
     "data": {
      "text/html": [
       "<div>\n",
       "<style scoped>\n",
       "    .dataframe tbody tr th:only-of-type {\n",
       "        vertical-align: middle;\n",
       "    }\n",
       "\n",
       "    .dataframe tbody tr th {\n",
       "        vertical-align: top;\n",
       "    }\n",
       "\n",
       "    .dataframe thead th {\n",
       "        text-align: right;\n",
       "    }\n",
       "</style>\n",
       "<table border=\"1\" class=\"dataframe\">\n",
       "  <thead>\n",
       "    <tr style=\"text-align: right;\">\n",
       "      <th></th>\n",
       "      <th>neighbourhood_group</th>\n",
       "      <th>neighbourhood</th>\n",
       "      <th>latitude</th>\n",
       "      <th>longitude</th>\n",
       "      <th>room_type</th>\n",
       "      <th>price</th>\n",
       "      <th>number_of_reviews</th>\n",
       "      <th>availability_365</th>\n",
       "      <th>review_recency</th>\n",
       "      <th>hosts_multiple_apts</th>\n",
       "    </tr>\n",
       "  </thead>\n",
       "  <tbody>\n",
       "    <tr>\n",
       "      <th>count</th>\n",
       "      <td>14669.000</td>\n",
       "      <td>14669.000</td>\n",
       "      <td>14669.000</td>\n",
       "      <td>14669.000</td>\n",
       "      <td>14669.000</td>\n",
       "      <td>14669.000</td>\n",
       "      <td>14669.000</td>\n",
       "      <td>14669.000</td>\n",
       "      <td>14669.000</td>\n",
       "      <td>14669.000</td>\n",
       "    </tr>\n",
       "    <tr>\n",
       "      <th>mean</th>\n",
       "      <td>0.418</td>\n",
       "      <td>0.577</td>\n",
       "      <td>0.555</td>\n",
       "      <td>0.550</td>\n",
       "      <td>0.253</td>\n",
       "      <td>153.184</td>\n",
       "      <td>0.036</td>\n",
       "      <td>0.639</td>\n",
       "      <td>0.457</td>\n",
       "      <td>0.342</td>\n",
       "    </tr>\n",
       "    <tr>\n",
       "      <th>std</th>\n",
       "      <td>0.185</td>\n",
       "      <td>0.318</td>\n",
       "      <td>0.133</td>\n",
       "      <td>0.087</td>\n",
       "      <td>0.273</td>\n",
       "      <td>230.501</td>\n",
       "      <td>0.069</td>\n",
       "      <td>0.480</td>\n",
       "      <td>0.386</td>\n",
       "      <td>0.474</td>\n",
       "    </tr>\n",
       "    <tr>\n",
       "      <th>min</th>\n",
       "      <td>0.000</td>\n",
       "      <td>0.000</td>\n",
       "      <td>0.016</td>\n",
       "      <td>0.010</td>\n",
       "      <td>0.000</td>\n",
       "      <td>0.000</td>\n",
       "      <td>0.000</td>\n",
       "      <td>0.000</td>\n",
       "      <td>0.000</td>\n",
       "      <td>0.000</td>\n",
       "    </tr>\n",
       "    <tr>\n",
       "      <th>25%</th>\n",
       "      <td>0.250</td>\n",
       "      <td>0.273</td>\n",
       "      <td>0.461</td>\n",
       "      <td>0.492</td>\n",
       "      <td>0.000</td>\n",
       "      <td>68.000</td>\n",
       "      <td>0.002</td>\n",
       "      <td>0.000</td>\n",
       "      <td>0.000</td>\n",
       "      <td>0.000</td>\n",
       "    </tr>\n",
       "    <tr>\n",
       "      <th>50%</th>\n",
       "      <td>0.500</td>\n",
       "      <td>0.636</td>\n",
       "      <td>0.540</td>\n",
       "      <td>0.544</td>\n",
       "      <td>0.000</td>\n",
       "      <td>105.000</td>\n",
       "      <td>0.008</td>\n",
       "      <td>1.000</td>\n",
       "      <td>0.500</td>\n",
       "      <td>0.000</td>\n",
       "    </tr>\n",
       "    <tr>\n",
       "      <th>75%</th>\n",
       "      <td>0.500</td>\n",
       "      <td>0.864</td>\n",
       "      <td>0.638</td>\n",
       "      <td>0.580</td>\n",
       "      <td>0.500</td>\n",
       "      <td>175.000</td>\n",
       "      <td>0.037</td>\n",
       "      <td>1.000</td>\n",
       "      <td>0.750</td>\n",
       "      <td>1.000</td>\n",
       "    </tr>\n",
       "    <tr>\n",
       "      <th>max</th>\n",
       "      <td>1.000</td>\n",
       "      <td>1.000</td>\n",
       "      <td>0.997</td>\n",
       "      <td>0.974</td>\n",
       "      <td>1.000</td>\n",
       "      <td>10000.000</td>\n",
       "      <td>0.863</td>\n",
       "      <td>1.000</td>\n",
       "      <td>1.000</td>\n",
       "      <td>1.000</td>\n",
       "    </tr>\n",
       "  </tbody>\n",
       "</table>\n",
       "</div>"
      ],
      "text/plain": [
       "       neighbourhood_group  neighbourhood   latitude  longitude  room_type      price  number_of_reviews  availability_365  review_recency  hosts_multiple_apts\n",
       "count            14669.000      14669.000  14669.000  14669.000  14669.000  14669.000          14669.000         14669.000       14669.000            14669.000\n",
       "mean                 0.418          0.577      0.555      0.550      0.253    153.184              0.036             0.639           0.457                0.342\n",
       "std                  0.185          0.318      0.133      0.087      0.273    230.501              0.069             0.480           0.386                0.474\n",
       "min                  0.000          0.000      0.016      0.010      0.000      0.000              0.000             0.000           0.000                0.000\n",
       "25%                  0.250          0.273      0.461      0.492      0.000     68.000              0.002             0.000           0.000                0.000\n",
       "50%                  0.500          0.636      0.540      0.544      0.000    105.000              0.008             1.000           0.500                0.000\n",
       "75%                  0.500          0.864      0.638      0.580      0.500    175.000              0.037             1.000           0.750                1.000\n",
       "max                  1.000          1.000      0.997      0.974      1.000  10000.000              0.863             1.000           1.000                1.000"
      ]
     },
     "execution_count": 15,
     "metadata": {},
     "output_type": "execute_result"
    }
   ],
   "source": [
    "df.describe()"
   ]
  },
  {
   "cell_type": "markdown",
   "metadata": {},
   "source": [
    "## Pandas"
   ]
  },
  {
   "cell_type": "code",
   "execution_count": null,
   "metadata": {},
   "outputs": [],
   "source": [
    "t3 = time()\n",
    "pandas_data = pandas_data.drop([\"id\", \"name\", \"host_id\", \"host_name\"], axis=1)\n",
    "\n",
    "data_in_small_disctricts = ~pandas_data[\"neighbourhood\"].isin(final_neighbourhoods)\n",
    "pandas_data.loc[data_in_small_disctricts, \"neighbourhood\"] = (\n",
    "    \"small discricts in \"\n",
    "    + pandas_data.loc[data_in_small_disctricts, \"neighbourhood_group\"]\n",
    ")\n",
    "\n",
    "\n",
    "pandas_data[\"last_review\"] = pd.to_datetime(\n",
    "    pandas_data[\"last_review\"], format=\"%Y-%m-%d\", errors=\"coerce\"\n",
    ")\n",
    "reference_date = pandas_data[\"last_review\"].max()\n",
    "pandas_data[\"days_since_review\"] = (reference_date - pandas_data[\"last_review\"]).dt.days\n",
    "pandas_data[\"review_recency\"] = pandas_data[\"days_since_review\"].apply(\n",
    "    categorize_review_recency\n",
    ")\n",
    "\n",
    "pandas_data = pandas_data.drop(\n",
    "    [\"reviews_per_month\", \"days_since_review\", \"last_review\"], axis=1\n",
    ")\n",
    "\n",
    "\n",
    "pandas_data[\"hosts_multiple_apts\"] = (\n",
    "    pandas_data[\"calculated_host_listings_count\"] > 1\n",
    ").astype(np.int8)\n",
    "pandas_data[\"availability_365\"] = (pandas_data[\"availability_365\"] > 0).astype(np.int8)\n",
    "\n",
    "pandas_data = pandas_data.drop(\n",
    "    [\"calculated_host_listings_count\", \"minimum_nights\"], axis=1\n",
    ")\n",
    "\n",
    "\n",
    "for col, column_actions in preprocessing_info.items():\n",
    "    if \"encoder\" in column_actions.keys():\n",
    "        pandas_data[col] = (\n",
    "            pandas_data[col].map(column_actions[\"encoder\"]).astype(np.int32)\n",
    "        )\n",
    "    if \"scaler\" in column_actions.keys():\n",
    "        pandas_data[col] = (pandas_data[col] - column_actions[\"scaler\"][\"min\"]) / (\n",
    "            column_actions[\"scaler\"][\"max\"] - column_actions[\"scaler\"][\"min\"]\n",
    "        )\n",
    "\n",
    "t4 = time()"
   ]
  },
  {
   "cell_type": "code",
   "execution_count": 17,
   "metadata": {},
   "outputs": [
    {
     "data": {
      "text/plain": [
       "0.03197002410888672"
      ]
     },
     "execution_count": 17,
     "metadata": {},
     "output_type": "execute_result"
    }
   ],
   "source": [
    "t4 - t3"
   ]
  },
  {
   "cell_type": "code",
   "execution_count": 18,
   "metadata": {},
   "outputs": [
    {
     "data": {
      "text/html": [
       "<div>\n",
       "<style scoped>\n",
       "    .dataframe tbody tr th:only-of-type {\n",
       "        vertical-align: middle;\n",
       "    }\n",
       "\n",
       "    .dataframe tbody tr th {\n",
       "        vertical-align: top;\n",
       "    }\n",
       "\n",
       "    .dataframe thead th {\n",
       "        text-align: right;\n",
       "    }\n",
       "</style>\n",
       "<table border=\"1\" class=\"dataframe\">\n",
       "  <thead>\n",
       "    <tr style=\"text-align: right;\">\n",
       "      <th></th>\n",
       "      <th>neighbourhood_group</th>\n",
       "      <th>neighbourhood</th>\n",
       "      <th>latitude</th>\n",
       "      <th>longitude</th>\n",
       "      <th>room_type</th>\n",
       "      <th>price</th>\n",
       "      <th>number_of_reviews</th>\n",
       "      <th>availability_365</th>\n",
       "      <th>review_recency</th>\n",
       "      <th>hosts_multiple_apts</th>\n",
       "    </tr>\n",
       "  </thead>\n",
       "  <tbody>\n",
       "    <tr>\n",
       "      <th>count</th>\n",
       "      <td>14669.000</td>\n",
       "      <td>14669.000</td>\n",
       "      <td>14669.000</td>\n",
       "      <td>14669.000</td>\n",
       "      <td>14669.000</td>\n",
       "      <td>14669.000</td>\n",
       "      <td>14669.000</td>\n",
       "      <td>14669.000</td>\n",
       "      <td>14669.000</td>\n",
       "      <td>14669.000</td>\n",
       "    </tr>\n",
       "    <tr>\n",
       "      <th>mean</th>\n",
       "      <td>0.418</td>\n",
       "      <td>0.577</td>\n",
       "      <td>0.555</td>\n",
       "      <td>0.550</td>\n",
       "      <td>0.253</td>\n",
       "      <td>153.184</td>\n",
       "      <td>0.036</td>\n",
       "      <td>0.639</td>\n",
       "      <td>0.457</td>\n",
       "      <td>0.342</td>\n",
       "    </tr>\n",
       "    <tr>\n",
       "      <th>std</th>\n",
       "      <td>0.185</td>\n",
       "      <td>0.318</td>\n",
       "      <td>0.133</td>\n",
       "      <td>0.087</td>\n",
       "      <td>0.273</td>\n",
       "      <td>230.501</td>\n",
       "      <td>0.069</td>\n",
       "      <td>0.480</td>\n",
       "      <td>0.386</td>\n",
       "      <td>0.474</td>\n",
       "    </tr>\n",
       "    <tr>\n",
       "      <th>min</th>\n",
       "      <td>0.000</td>\n",
       "      <td>0.000</td>\n",
       "      <td>0.016</td>\n",
       "      <td>0.010</td>\n",
       "      <td>0.000</td>\n",
       "      <td>0.000</td>\n",
       "      <td>0.000</td>\n",
       "      <td>0.000</td>\n",
       "      <td>0.000</td>\n",
       "      <td>0.000</td>\n",
       "    </tr>\n",
       "    <tr>\n",
       "      <th>25%</th>\n",
       "      <td>0.250</td>\n",
       "      <td>0.273</td>\n",
       "      <td>0.461</td>\n",
       "      <td>0.492</td>\n",
       "      <td>0.000</td>\n",
       "      <td>68.000</td>\n",
       "      <td>0.002</td>\n",
       "      <td>0.000</td>\n",
       "      <td>0.000</td>\n",
       "      <td>0.000</td>\n",
       "    </tr>\n",
       "    <tr>\n",
       "      <th>50%</th>\n",
       "      <td>0.500</td>\n",
       "      <td>0.636</td>\n",
       "      <td>0.540</td>\n",
       "      <td>0.544</td>\n",
       "      <td>0.000</td>\n",
       "      <td>105.000</td>\n",
       "      <td>0.008</td>\n",
       "      <td>1.000</td>\n",
       "      <td>0.500</td>\n",
       "      <td>0.000</td>\n",
       "    </tr>\n",
       "    <tr>\n",
       "      <th>75%</th>\n",
       "      <td>0.500</td>\n",
       "      <td>0.864</td>\n",
       "      <td>0.638</td>\n",
       "      <td>0.580</td>\n",
       "      <td>0.500</td>\n",
       "      <td>175.000</td>\n",
       "      <td>0.037</td>\n",
       "      <td>1.000</td>\n",
       "      <td>0.750</td>\n",
       "      <td>1.000</td>\n",
       "    </tr>\n",
       "    <tr>\n",
       "      <th>max</th>\n",
       "      <td>1.000</td>\n",
       "      <td>1.000</td>\n",
       "      <td>0.997</td>\n",
       "      <td>0.974</td>\n",
       "      <td>1.000</td>\n",
       "      <td>10000.000</td>\n",
       "      <td>0.863</td>\n",
       "      <td>1.000</td>\n",
       "      <td>1.000</td>\n",
       "      <td>1.000</td>\n",
       "    </tr>\n",
       "  </tbody>\n",
       "</table>\n",
       "</div>"
      ],
      "text/plain": [
       "       neighbourhood_group  neighbourhood   latitude  longitude  room_type  \\\n",
       "count            14669.000      14669.000  14669.000  14669.000  14669.000   \n",
       "mean                 0.418          0.577      0.555      0.550      0.253   \n",
       "std                  0.185          0.318      0.133      0.087      0.273   \n",
       "min                  0.000          0.000      0.016      0.010      0.000   \n",
       "25%                  0.250          0.273      0.461      0.492      0.000   \n",
       "50%                  0.500          0.636      0.540      0.544      0.000   \n",
       "75%                  0.500          0.864      0.638      0.580      0.500   \n",
       "max                  1.000          1.000      0.997      0.974      1.000   \n",
       "\n",
       "           price  number_of_reviews  availability_365  review_recency  \\\n",
       "count  14669.000          14669.000         14669.000       14669.000   \n",
       "mean     153.184              0.036             0.639           0.457   \n",
       "std      230.501              0.069             0.480           0.386   \n",
       "min        0.000              0.000             0.000           0.000   \n",
       "25%       68.000              0.002             0.000           0.000   \n",
       "50%      105.000              0.008             1.000           0.500   \n",
       "75%      175.000              0.037             1.000           0.750   \n",
       "max    10000.000              0.863             1.000           1.000   \n",
       "\n",
       "       hosts_multiple_apts  \n",
       "count            14669.000  \n",
       "mean                 0.342  \n",
       "std                  0.474  \n",
       "min                  0.000  \n",
       "25%                  0.000  \n",
       "50%                  0.000  \n",
       "75%                  1.000  \n",
       "max                  1.000  "
      ]
     },
     "execution_count": 18,
     "metadata": {},
     "output_type": "execute_result"
    }
   ],
   "source": [
    "pandas_data.describe()"
   ]
  },
  {
   "cell_type": "markdown",
   "metadata": {},
   "source": [
    "## Сравнение"
   ]
  },
  {
   "cell_type": "code",
   "execution_count": 23,
   "metadata": {},
   "outputs": [
    {
     "name": "stderr",
     "output_type": "stream",
     "text": [
      "D:\\DEV\\spark_binaries\\python\\lib\\pyspark\\pandas\\utils.py:1016: PandasAPIOnSparkAdviceWarning: `to_pandas` loads all data into the driver's memory. It should only be used if the resulting pandas DataFrame is expected to be small.\n",
      "  warnings.warn(message, PandasAPIOnSparkAdviceWarning)\n"
     ]
    }
   ],
   "source": [
    "pyspark_back2pandas = df.to_pandas()\n",
    "pyspark_back2pandas.index = pandas_data.index"
   ]
  },
  {
   "cell_type": "code",
   "execution_count": 25,
   "metadata": {},
   "outputs": [
    {
     "data": {
      "text/html": [
       "<div>\n",
       "<style scoped>\n",
       "    .dataframe tbody tr th:only-of-type {\n",
       "        vertical-align: middle;\n",
       "    }\n",
       "\n",
       "    .dataframe tbody tr th {\n",
       "        vertical-align: top;\n",
       "    }\n",
       "\n",
       "    .dataframe thead tr th {\n",
       "        text-align: left;\n",
       "    }\n",
       "</style>\n",
       "<table border=\"1\" class=\"dataframe\">\n",
       "  <thead>\n",
       "  </thead>\n",
       "  <tbody>\n",
       "  </tbody>\n",
       "</table>\n",
       "</div>"
      ],
      "text/plain": [
       "Empty DataFrame\n",
       "Columns: []\n",
       "Index: []"
      ]
     },
     "execution_count": 25,
     "metadata": {},
     "output_type": "execute_result"
    }
   ],
   "source": [
    "pandas_data.compare(pyspark_back2pandas)"
   ]
  },
  {
   "cell_type": "code",
   "execution_count": 28,
   "metadata": {},
   "outputs": [
    {
     "name": "stdout",
     "output_type": "stream",
     "text": [
      "PySpark time: 36.787 s\n",
      "Pandas time: 0.032 s\n"
     ]
    }
   ],
   "source": [
    "print(f\"PySpark time: {t2 - t1:.3f} s\")\n",
    "print(f\"Pandas time: {t4 - t3:.3f} s\")"
   ]
  },
  {
   "cell_type": "markdown",
   "metadata": {},
   "source": [
    "Результаты обработки полностью совпадают, однако на малом объеме данных преимущества PySpark нивелируются и локальная обработка на Pandas быстрее примерно в 1000 раз."
   ]
  },
  {
   "cell_type": "markdown",
   "metadata": {},
   "source": []
  }
 ],
 "metadata": {
  "kernelspec": {
   "display_name": "mlops_venv_3.9",
   "language": "python",
   "name": "python3"
  },
  "language_info": {
   "codemirror_mode": {
    "name": "ipython",
    "version": 3
   },
   "file_extension": ".py",
   "mimetype": "text/x-python",
   "name": "python",
   "nbconvert_exporter": "python",
   "pygments_lexer": "ipython3",
   "version": "3.9.12"
  }
 },
 "nbformat": 4,
 "nbformat_minor": 2
}
